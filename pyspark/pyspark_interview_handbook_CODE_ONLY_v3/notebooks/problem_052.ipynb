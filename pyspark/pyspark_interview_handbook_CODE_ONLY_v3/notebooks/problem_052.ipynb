{
  "cells": [
    {
      "cell_type": "markdown",
      "metadata": {},
      "source": [
        "# Problem 052: 052 - Aggregations & GroupBy: Agg challenge\n",
        "\n",
        "**Category:** Aggregations & GroupBy"
      ]
    },
    {
      "cell_type": "markdown",
      "metadata": {},
      "source": [
        "## Schema\n",
        "```\n",
        "root\n",
        " |-- order_id: string\n",
        " |-- product_id: string\n",
        " |-- price: double\n",
        " |-- quantity: int\n",
        " |-- order_ts: timestamp\n",
        " |-- tags: array<string>\n",
        "```"
      ]
    },
    {
      "cell_type": "code",
      "metadata": {},
      "source": [
        "from pyspark.sql import SparkSession, functions as F\n",
        "from pyspark.sql.window import Window\n",
        "spark = SparkSession.builder.getOrCreate()"
      ]
    },
    {
      "cell_type": "markdown",
      "metadata": {},
      "source": [
        "## Solution"
      ]
    },
    {
      "cell_type": "code",
      "metadata": {},
      "source": [
        "from pyspark.sql import functions as F\n",
        "user_stats = users.groupBy(\"user_id\").agg(F.count(\"*\").alias(\"cnt\"), F.sum(\"value\").alias(\"sum_value\"), F.avg(\"value\").alias(\"avg_value\"))\n",
        "global_distinct = users.select(F.countDistinct(\"user_id\").alias(\"distinct_users\"))\n",
        "res = user_stats"
      ]
    },
    {
      "cell_type": "markdown",
      "metadata": {},
      "source": [
        "## Tests (chispa / SQL assertions)\n",
        "- Install `chispa` if desired: `pip install chispa`\n",
        "- Or run simple `res.count()` / schema checks."
      ]
    }
  ],
  "metadata": {
    "kernelspec": {
      "display_name": "Python 3",
      "language": "python",
      "name": "python3"
    }
  },
  "nbformat": 4,
  "nbformat_minor": 5
}