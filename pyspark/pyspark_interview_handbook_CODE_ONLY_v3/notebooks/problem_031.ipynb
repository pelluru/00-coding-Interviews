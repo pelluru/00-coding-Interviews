{
  "cells": [
    {
      "cell_type": "markdown",
      "metadata": {},
      "source": [
        "# Problem 031: 031 - Misc Utilities: Accumulators (concept) challenge\n",
        "\n",
        "**Category:** Misc Utilities"
      ]
    },
    {
      "cell_type": "markdown",
      "metadata": {},
      "source": [
        "## Schema\n",
        "```\n",
        "root\n",
        " |-- uid: string\n",
        " |-- name: string\n",
        " |-- email: string\n",
        " |-- country: string\n",
        " |-- signup_ts: timestamp\n",
        "```"
      ]
    },
    {
      "cell_type": "code",
      "metadata": {},
      "source": [
        "from pyspark.sql import SparkSession, functions as F\n",
        "from pyspark.sql.window import Window\n",
        "spark = SparkSession.builder.getOrCreate()"
      ]
    },
    {
      "cell_type": "markdown",
      "metadata": {},
      "source": [
        "## Solution"
      ]
    },
    {
      "cell_type": "code",
      "metadata": {},
      "source": [
        "res = events.hint(\"broadcast\")"
      ]
    },
    {
      "cell_type": "markdown",
      "metadata": {},
      "source": [
        "## Tests (chispa / SQL assertions)\n",
        "- Install `chispa` if desired: `pip install chispa`\n",
        "- Or run simple `res.count()` / schema checks."
      ]
    }
  ],
  "metadata": {
    "kernelspec": {
      "display_name": "Python 3",
      "language": "python",
      "name": "python3"
    }
  },
  "nbformat": 4,
  "nbformat_minor": 5
}