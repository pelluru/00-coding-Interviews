{
  "cells": [
    {
      "cell_type": "markdown",
      "metadata": {},
      "source": [
        "# Problem 112: 112 - Aggregations & GroupBy: Approx_count_distinct challenge\n",
        "\n",
        "**Category:** Aggregations & GroupBy"
      ]
    },
    {
      "cell_type": "markdown",
      "metadata": {},
      "source": [
        "## Schema\n",
        "```\n",
        "root\n",
        " |-- id: string\n",
        " |-- ts: timestamp\n",
        " |-- user_id: string\n",
        " |-- event_type: string\n",
        " |-- value: double\n",
        "```"
      ]
    },
    {
      "cell_type": "code",
      "metadata": {},
      "source": [
        "from pyspark.sql import SparkSession, functions as F\n",
        "from pyspark.sql.window import Window\n",
        "spark = SparkSession.builder.getOrCreate()"
      ]
    },
    {
      "cell_type": "markdown",
      "metadata": {},
      "source": [
        "## Solution"
      ]
    },
    {
      "cell_type": "code",
      "metadata": {},
      "source": [
        "from pyspark.sql import functions as F\n",
        "user_stats = clicks.groupBy(\"user_id\").agg(F.count(\"*\").alias(\"cnt\"), F.sum(\"value\").alias(\"sum_value\"), F.avg(\"value\").alias(\"avg_value\"))\n",
        "global_distinct = clicks.select(F.countDistinct(\"user_id\").alias(\"distinct_users\"))\n",
        "res = user_stats"
      ]
    },
    {
      "cell_type": "markdown",
      "metadata": {},
      "source": [
        "## Tests (chispa / SQL assertions)\n",
        "- Install `chispa` if desired: `pip install chispa`\n",
        "- Or run simple `res.count()` / schema checks."
      ]
    }
  ],
  "metadata": {
    "kernelspec": {
      "display_name": "Python 3",
      "language": "python",
      "name": "python3"
    }
  },
  "nbformat": 4,
  "nbformat_minor": 5
}