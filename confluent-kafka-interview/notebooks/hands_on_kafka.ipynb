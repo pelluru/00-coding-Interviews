{
  "cells": [
    {
      "cell_type": "markdown",
      "metadata": {},
      "source": [
        "# Confluent Kafka Hands-On\n",
        "This notebook shows end-to-end basics: producer, consumer, Connect & ksqlDB notes.\n",
        "\n",
        "\u26a0\ufe0f Running Kafka requires a live cluster; code cells are illustrative.\n"
      ]
    },
    {
      "cell_type": "code",
      "metadata": {},
      "execution_count": null,
      "outputs": [],
      "source": [
        "from kafka import KafkaProducer\n",
        "import json, os, time\n",
        "bootstrap = os.getenv('BOOTSTRAP','localhost:9092')\n",
        "producer = KafkaProducer(bootstrap_servers=bootstrap.split(','),\n",
        "                         value_serializer=lambda v: json.dumps(v).encode(),\n",
        "                         key_serializer=lambda k: k.encode(),\n",
        "                         acks='all')\n",
        "for i in range(3):\n",
        "    key = f'user-{i%2}'\n",
        "    producer.send('orders', key=key, value={'id': i, 'ts': int(time.time())})\n",
        "producer.flush()"
      ]
    },
    {
      "cell_type": "markdown",
      "metadata": {},
      "source": [
        "## Consumer snippet (manual commit)"
      ]
    },
    {
      "cell_type": "code",
      "metadata": {},
      "execution_count": null,
      "outputs": [],
      "source": [
        "from kafka import KafkaConsumer\n",
        "import json\n",
        "consumer = KafkaConsumer('orders', group_id='nb-consumers',\n",
        "    bootstrap_servers=bootstrap.split(','),\n",
        "    enable_auto_commit=False,\n",
        "    value_deserializer=lambda b: json.loads(b.decode()))\n",
        "records = consumer.poll(timeout_ms=1000)\n",
        "for tp, msgs in records.items():\n",
        "    for m in msgs:\n",
        "        print(m)\n",
        "consumer.commit()"
      ]
    },
    {
      "cell_type": "markdown",
      "metadata": {},
      "source": [
        "## Connect configs & ksqlDB\n",
        "See `connect/` and `ksqldb/` folder in this repo."
      ]
    }
  ],
  "metadata": {
    "kernelspec": {
      "display_name": "Python 3",
      "language": "python",
      "name": "python3"
    }
  },
  "nbformat": 4,
  "nbformat_minor": 5
}